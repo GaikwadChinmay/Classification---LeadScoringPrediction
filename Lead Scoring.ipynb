{
  "nbformat": 4,
  "nbformat_minor": 0,
  "metadata": {
    "colab": {
      "name": "Lead Scoring.ipynb",
      "provenance": [],
      "collapsed_sections": [
        "TBiSOtYUcxKK"
      ]
    },
    "kernelspec": {
      "name": "python3",
      "display_name": "Python 3"
    },
    "language_info": {
      "name": "python"
    }
  },
  "cells": [
    {
      "cell_type": "markdown",
      "metadata": {
        "id": "TBiSOtYUcxKK"
      },
      "source": [
        "# Lead Scoring\n",
        "\n",
        "An education company named X Education sells online courses to industry professionals. On any given day, many professionals who are interested in the courses land on their website and browse for courses. \n",
        "\n",
        "X Education has appointed you to help them select the most promising leads, i.e. the leads that are most likely to convert into paying customers. The company requires you to build a model wherein you need to assign a lead score to each of the leads such that the customers with higher lead score have a higher conversion chance and the customers with lower lead score have a lower conversion chance. The CEO, in particular, has given a ballpark of the target lead conversion rate to be around 80%"
      ]
    },
    {
      "cell_type": "code",
      "metadata": {
        "id": "rVJoG7vYYvAr"
      },
      "source": [
        "# Importing required packages\n",
        "import numpy as np, pandas as pd"
      ],
      "execution_count": 185,
      "outputs": []
    },
    {
      "cell_type": "code",
      "metadata": {
        "colab": {
          "base_uri": "https://localhost:8080/",
          "height": 0
        },
        "id": "4KWEsgFldigK",
        "outputId": "915fe20c-9201-46d9-b1f3-8b94bc264521"
      },
      "source": [
        "# Read data\n",
        "df = pd.read_csv('/content/Leads.csv')\n",
        "df.head()"
      ],
      "execution_count": 186,
      "outputs": [
        {
          "output_type": "execute_result",
          "data": {
            "text/html": [
              "<div>\n",
              "<style scoped>\n",
              "    .dataframe tbody tr th:only-of-type {\n",
              "        vertical-align: middle;\n",
              "    }\n",
              "\n",
              "    .dataframe tbody tr th {\n",
              "        vertical-align: top;\n",
              "    }\n",
              "\n",
              "    .dataframe thead th {\n",
              "        text-align: right;\n",
              "    }\n",
              "</style>\n",
              "<table border=\"1\" class=\"dataframe\">\n",
              "  <thead>\n",
              "    <tr style=\"text-align: right;\">\n",
              "      <th></th>\n",
              "      <th>Prospect ID</th>\n",
              "      <th>Lead Number</th>\n",
              "      <th>Lead Origin</th>\n",
              "      <th>Lead Source</th>\n",
              "      <th>Do Not Email</th>\n",
              "      <th>Do Not Call</th>\n",
              "      <th>Converted</th>\n",
              "      <th>TotalVisits</th>\n",
              "      <th>Total Time Spent on Website</th>\n",
              "      <th>Page Views Per Visit</th>\n",
              "      <th>Last Activity</th>\n",
              "      <th>Country</th>\n",
              "      <th>Specialization</th>\n",
              "      <th>How did you hear about X Education</th>\n",
              "      <th>What is your current occupation</th>\n",
              "      <th>What matters most to you in choosing a course</th>\n",
              "      <th>Search</th>\n",
              "      <th>Magazine</th>\n",
              "      <th>Newspaper Article</th>\n",
              "      <th>X Education Forums</th>\n",
              "      <th>Newspaper</th>\n",
              "      <th>Digital Advertisement</th>\n",
              "      <th>Through Recommendations</th>\n",
              "      <th>Receive More Updates About Our Courses</th>\n",
              "      <th>Tags</th>\n",
              "      <th>Lead Quality</th>\n",
              "      <th>Update me on Supply Chain Content</th>\n",
              "      <th>Get updates on DM Content</th>\n",
              "      <th>Lead Profile</th>\n",
              "      <th>City</th>\n",
              "      <th>Asymmetrique Activity Index</th>\n",
              "      <th>Asymmetrique Profile Index</th>\n",
              "      <th>Asymmetrique Activity Score</th>\n",
              "      <th>Asymmetrique Profile Score</th>\n",
              "      <th>I agree to pay the amount through cheque</th>\n",
              "      <th>A free copy of Mastering The Interview</th>\n",
              "      <th>Last Notable Activity</th>\n",
              "    </tr>\n",
              "  </thead>\n",
              "  <tbody>\n",
              "    <tr>\n",
              "      <th>0</th>\n",
              "      <td>7927b2df-8bba-4d29-b9a2-b6e0beafe620</td>\n",
              "      <td>660737</td>\n",
              "      <td>API</td>\n",
              "      <td>Olark Chat</td>\n",
              "      <td>No</td>\n",
              "      <td>No</td>\n",
              "      <td>0</td>\n",
              "      <td>0.0</td>\n",
              "      <td>0</td>\n",
              "      <td>0.0</td>\n",
              "      <td>Page Visited on Website</td>\n",
              "      <td>NaN</td>\n",
              "      <td>Select</td>\n",
              "      <td>Select</td>\n",
              "      <td>Unemployed</td>\n",
              "      <td>Better Career Prospects</td>\n",
              "      <td>No</td>\n",
              "      <td>No</td>\n",
              "      <td>No</td>\n",
              "      <td>No</td>\n",
              "      <td>No</td>\n",
              "      <td>No</td>\n",
              "      <td>No</td>\n",
              "      <td>No</td>\n",
              "      <td>Interested in other courses</td>\n",
              "      <td>Low in Relevance</td>\n",
              "      <td>No</td>\n",
              "      <td>No</td>\n",
              "      <td>Select</td>\n",
              "      <td>Select</td>\n",
              "      <td>02.Medium</td>\n",
              "      <td>02.Medium</td>\n",
              "      <td>15.0</td>\n",
              "      <td>15.0</td>\n",
              "      <td>No</td>\n",
              "      <td>No</td>\n",
              "      <td>Modified</td>\n",
              "    </tr>\n",
              "    <tr>\n",
              "      <th>1</th>\n",
              "      <td>2a272436-5132-4136-86fa-dcc88c88f482</td>\n",
              "      <td>660728</td>\n",
              "      <td>API</td>\n",
              "      <td>Organic Search</td>\n",
              "      <td>No</td>\n",
              "      <td>No</td>\n",
              "      <td>0</td>\n",
              "      <td>5.0</td>\n",
              "      <td>674</td>\n",
              "      <td>2.5</td>\n",
              "      <td>Email Opened</td>\n",
              "      <td>India</td>\n",
              "      <td>Select</td>\n",
              "      <td>Select</td>\n",
              "      <td>Unemployed</td>\n",
              "      <td>Better Career Prospects</td>\n",
              "      <td>No</td>\n",
              "      <td>No</td>\n",
              "      <td>No</td>\n",
              "      <td>No</td>\n",
              "      <td>No</td>\n",
              "      <td>No</td>\n",
              "      <td>No</td>\n",
              "      <td>No</td>\n",
              "      <td>Ringing</td>\n",
              "      <td>NaN</td>\n",
              "      <td>No</td>\n",
              "      <td>No</td>\n",
              "      <td>Select</td>\n",
              "      <td>Select</td>\n",
              "      <td>02.Medium</td>\n",
              "      <td>02.Medium</td>\n",
              "      <td>15.0</td>\n",
              "      <td>15.0</td>\n",
              "      <td>No</td>\n",
              "      <td>No</td>\n",
              "      <td>Email Opened</td>\n",
              "    </tr>\n",
              "    <tr>\n",
              "      <th>2</th>\n",
              "      <td>8cc8c611-a219-4f35-ad23-fdfd2656bd8a</td>\n",
              "      <td>660727</td>\n",
              "      <td>Landing Page Submission</td>\n",
              "      <td>Direct Traffic</td>\n",
              "      <td>No</td>\n",
              "      <td>No</td>\n",
              "      <td>1</td>\n",
              "      <td>2.0</td>\n",
              "      <td>1532</td>\n",
              "      <td>2.0</td>\n",
              "      <td>Email Opened</td>\n",
              "      <td>India</td>\n",
              "      <td>Business Administration</td>\n",
              "      <td>Select</td>\n",
              "      <td>Student</td>\n",
              "      <td>Better Career Prospects</td>\n",
              "      <td>No</td>\n",
              "      <td>No</td>\n",
              "      <td>No</td>\n",
              "      <td>No</td>\n",
              "      <td>No</td>\n",
              "      <td>No</td>\n",
              "      <td>No</td>\n",
              "      <td>No</td>\n",
              "      <td>Will revert after reading the email</td>\n",
              "      <td>Might be</td>\n",
              "      <td>No</td>\n",
              "      <td>No</td>\n",
              "      <td>Potential Lead</td>\n",
              "      <td>Mumbai</td>\n",
              "      <td>02.Medium</td>\n",
              "      <td>01.High</td>\n",
              "      <td>14.0</td>\n",
              "      <td>20.0</td>\n",
              "      <td>No</td>\n",
              "      <td>Yes</td>\n",
              "      <td>Email Opened</td>\n",
              "    </tr>\n",
              "    <tr>\n",
              "      <th>3</th>\n",
              "      <td>0cc2df48-7cf4-4e39-9de9-19797f9b38cc</td>\n",
              "      <td>660719</td>\n",
              "      <td>Landing Page Submission</td>\n",
              "      <td>Direct Traffic</td>\n",
              "      <td>No</td>\n",
              "      <td>No</td>\n",
              "      <td>0</td>\n",
              "      <td>1.0</td>\n",
              "      <td>305</td>\n",
              "      <td>1.0</td>\n",
              "      <td>Unreachable</td>\n",
              "      <td>India</td>\n",
              "      <td>Media and Advertising</td>\n",
              "      <td>Word Of Mouth</td>\n",
              "      <td>Unemployed</td>\n",
              "      <td>Better Career Prospects</td>\n",
              "      <td>No</td>\n",
              "      <td>No</td>\n",
              "      <td>No</td>\n",
              "      <td>No</td>\n",
              "      <td>No</td>\n",
              "      <td>No</td>\n",
              "      <td>No</td>\n",
              "      <td>No</td>\n",
              "      <td>Ringing</td>\n",
              "      <td>Not Sure</td>\n",
              "      <td>No</td>\n",
              "      <td>No</td>\n",
              "      <td>Select</td>\n",
              "      <td>Mumbai</td>\n",
              "      <td>02.Medium</td>\n",
              "      <td>01.High</td>\n",
              "      <td>13.0</td>\n",
              "      <td>17.0</td>\n",
              "      <td>No</td>\n",
              "      <td>No</td>\n",
              "      <td>Modified</td>\n",
              "    </tr>\n",
              "    <tr>\n",
              "      <th>4</th>\n",
              "      <td>3256f628-e534-4826-9d63-4a8b88782852</td>\n",
              "      <td>660681</td>\n",
              "      <td>Landing Page Submission</td>\n",
              "      <td>Google</td>\n",
              "      <td>No</td>\n",
              "      <td>No</td>\n",
              "      <td>1</td>\n",
              "      <td>2.0</td>\n",
              "      <td>1428</td>\n",
              "      <td>1.0</td>\n",
              "      <td>Converted to Lead</td>\n",
              "      <td>India</td>\n",
              "      <td>Select</td>\n",
              "      <td>Other</td>\n",
              "      <td>Unemployed</td>\n",
              "      <td>Better Career Prospects</td>\n",
              "      <td>No</td>\n",
              "      <td>No</td>\n",
              "      <td>No</td>\n",
              "      <td>No</td>\n",
              "      <td>No</td>\n",
              "      <td>No</td>\n",
              "      <td>No</td>\n",
              "      <td>No</td>\n",
              "      <td>Will revert after reading the email</td>\n",
              "      <td>Might be</td>\n",
              "      <td>No</td>\n",
              "      <td>No</td>\n",
              "      <td>Select</td>\n",
              "      <td>Mumbai</td>\n",
              "      <td>02.Medium</td>\n",
              "      <td>01.High</td>\n",
              "      <td>15.0</td>\n",
              "      <td>18.0</td>\n",
              "      <td>No</td>\n",
              "      <td>No</td>\n",
              "      <td>Modified</td>\n",
              "    </tr>\n",
              "  </tbody>\n",
              "</table>\n",
              "</div>"
            ],
            "text/plain": [
              "                            Prospect ID  ...  Last Notable Activity\n",
              "0  7927b2df-8bba-4d29-b9a2-b6e0beafe620  ...               Modified\n",
              "1  2a272436-5132-4136-86fa-dcc88c88f482  ...           Email Opened\n",
              "2  8cc8c611-a219-4f35-ad23-fdfd2656bd8a  ...           Email Opened\n",
              "3  0cc2df48-7cf4-4e39-9de9-19797f9b38cc  ...               Modified\n",
              "4  3256f628-e534-4826-9d63-4a8b88782852  ...               Modified\n",
              "\n",
              "[5 rows x 37 columns]"
            ]
          },
          "metadata": {},
          "execution_count": 186
        }
      ]
    },
    {
      "cell_type": "code",
      "metadata": {
        "colab": {
          "base_uri": "https://localhost:8080/"
        },
        "id": "HzcHYkZKlDR_",
        "outputId": "efa27a5d-3776-4894-8190-a8acd00fa4f7"
      },
      "source": [
        "df.shape"
      ],
      "execution_count": 187,
      "outputs": [
        {
          "output_type": "execute_result",
          "data": {
            "text/plain": [
              "(9240, 37)"
            ]
          },
          "metadata": {},
          "execution_count": 187
        }
      ]
    },
    {
      "cell_type": "code",
      "metadata": {
        "colab": {
          "base_uri": "https://localhost:8080/"
        },
        "id": "RmuEd3tHlAEb",
        "outputId": "2afede74-a026-48d3-cd9b-11215054c058"
      },
      "source": [
        "df.info()"
      ],
      "execution_count": 188,
      "outputs": [
        {
          "output_type": "stream",
          "name": "stdout",
          "text": [
            "<class 'pandas.core.frame.DataFrame'>\n",
            "RangeIndex: 9240 entries, 0 to 9239\n",
            "Data columns (total 37 columns):\n",
            " #   Column                                         Non-Null Count  Dtype  \n",
            "---  ------                                         --------------  -----  \n",
            " 0   Prospect ID                                    9240 non-null   object \n",
            " 1   Lead Number                                    9240 non-null   int64  \n",
            " 2   Lead Origin                                    9240 non-null   object \n",
            " 3   Lead Source                                    9204 non-null   object \n",
            " 4   Do Not Email                                   9240 non-null   object \n",
            " 5   Do Not Call                                    9240 non-null   object \n",
            " 6   Converted                                      9240 non-null   int64  \n",
            " 7   TotalVisits                                    9103 non-null   float64\n",
            " 8   Total Time Spent on Website                    9240 non-null   int64  \n",
            " 9   Page Views Per Visit                           9103 non-null   float64\n",
            " 10  Last Activity                                  9137 non-null   object \n",
            " 11  Country                                        6779 non-null   object \n",
            " 12  Specialization                                 7802 non-null   object \n",
            " 13  How did you hear about X Education             7033 non-null   object \n",
            " 14  What is your current occupation                6550 non-null   object \n",
            " 15  What matters most to you in choosing a course  6531 non-null   object \n",
            " 16  Search                                         9240 non-null   object \n",
            " 17  Magazine                                       9240 non-null   object \n",
            " 18  Newspaper Article                              9240 non-null   object \n",
            " 19  X Education Forums                             9240 non-null   object \n",
            " 20  Newspaper                                      9240 non-null   object \n",
            " 21  Digital Advertisement                          9240 non-null   object \n",
            " 22  Through Recommendations                        9240 non-null   object \n",
            " 23  Receive More Updates About Our Courses         9240 non-null   object \n",
            " 24  Tags                                           5887 non-null   object \n",
            " 25  Lead Quality                                   4473 non-null   object \n",
            " 26  Update me on Supply Chain Content              9240 non-null   object \n",
            " 27  Get updates on DM Content                      9240 non-null   object \n",
            " 28  Lead Profile                                   6531 non-null   object \n",
            " 29  City                                           7820 non-null   object \n",
            " 30  Asymmetrique Activity Index                    5022 non-null   object \n",
            " 31  Asymmetrique Profile Index                     5022 non-null   object \n",
            " 32  Asymmetrique Activity Score                    5022 non-null   float64\n",
            " 33  Asymmetrique Profile Score                     5022 non-null   float64\n",
            " 34  I agree to pay the amount through cheque       9240 non-null   object \n",
            " 35  A free copy of Mastering The Interview         9240 non-null   object \n",
            " 36  Last Notable Activity                          9240 non-null   object \n",
            "dtypes: float64(4), int64(3), object(30)\n",
            "memory usage: 2.6+ MB\n"
          ]
        }
      ]
    },
    {
      "cell_type": "code",
      "metadata": {
        "colab": {
          "base_uri": "https://localhost:8080/",
          "height": 0
        },
        "id": "M4cDeXT5lCeg",
        "outputId": "b09ce2f6-8d1e-431a-e58d-dbbe354a4ef7"
      },
      "source": [
        "df.describe()"
      ],
      "execution_count": 189,
      "outputs": [
        {
          "output_type": "execute_result",
          "data": {
            "text/html": [
              "<div>\n",
              "<style scoped>\n",
              "    .dataframe tbody tr th:only-of-type {\n",
              "        vertical-align: middle;\n",
              "    }\n",
              "\n",
              "    .dataframe tbody tr th {\n",
              "        vertical-align: top;\n",
              "    }\n",
              "\n",
              "    .dataframe thead th {\n",
              "        text-align: right;\n",
              "    }\n",
              "</style>\n",
              "<table border=\"1\" class=\"dataframe\">\n",
              "  <thead>\n",
              "    <tr style=\"text-align: right;\">\n",
              "      <th></th>\n",
              "      <th>Lead Number</th>\n",
              "      <th>Converted</th>\n",
              "      <th>TotalVisits</th>\n",
              "      <th>Total Time Spent on Website</th>\n",
              "      <th>Page Views Per Visit</th>\n",
              "      <th>Asymmetrique Activity Score</th>\n",
              "      <th>Asymmetrique Profile Score</th>\n",
              "    </tr>\n",
              "  </thead>\n",
              "  <tbody>\n",
              "    <tr>\n",
              "      <th>count</th>\n",
              "      <td>9240.000000</td>\n",
              "      <td>9240.000000</td>\n",
              "      <td>9103.000000</td>\n",
              "      <td>9240.000000</td>\n",
              "      <td>9103.000000</td>\n",
              "      <td>5022.000000</td>\n",
              "      <td>5022.000000</td>\n",
              "    </tr>\n",
              "    <tr>\n",
              "      <th>mean</th>\n",
              "      <td>617188.435606</td>\n",
              "      <td>0.385390</td>\n",
              "      <td>3.445238</td>\n",
              "      <td>487.698268</td>\n",
              "      <td>2.362820</td>\n",
              "      <td>14.306252</td>\n",
              "      <td>16.344883</td>\n",
              "    </tr>\n",
              "    <tr>\n",
              "      <th>std</th>\n",
              "      <td>23405.995698</td>\n",
              "      <td>0.486714</td>\n",
              "      <td>4.854853</td>\n",
              "      <td>548.021466</td>\n",
              "      <td>2.161418</td>\n",
              "      <td>1.386694</td>\n",
              "      <td>1.811395</td>\n",
              "    </tr>\n",
              "    <tr>\n",
              "      <th>min</th>\n",
              "      <td>579533.000000</td>\n",
              "      <td>0.000000</td>\n",
              "      <td>0.000000</td>\n",
              "      <td>0.000000</td>\n",
              "      <td>0.000000</td>\n",
              "      <td>7.000000</td>\n",
              "      <td>11.000000</td>\n",
              "    </tr>\n",
              "    <tr>\n",
              "      <th>25%</th>\n",
              "      <td>596484.500000</td>\n",
              "      <td>0.000000</td>\n",
              "      <td>1.000000</td>\n",
              "      <td>12.000000</td>\n",
              "      <td>1.000000</td>\n",
              "      <td>14.000000</td>\n",
              "      <td>15.000000</td>\n",
              "    </tr>\n",
              "    <tr>\n",
              "      <th>50%</th>\n",
              "      <td>615479.000000</td>\n",
              "      <td>0.000000</td>\n",
              "      <td>3.000000</td>\n",
              "      <td>248.000000</td>\n",
              "      <td>2.000000</td>\n",
              "      <td>14.000000</td>\n",
              "      <td>16.000000</td>\n",
              "    </tr>\n",
              "    <tr>\n",
              "      <th>75%</th>\n",
              "      <td>637387.250000</td>\n",
              "      <td>1.000000</td>\n",
              "      <td>5.000000</td>\n",
              "      <td>936.000000</td>\n",
              "      <td>3.000000</td>\n",
              "      <td>15.000000</td>\n",
              "      <td>18.000000</td>\n",
              "    </tr>\n",
              "    <tr>\n",
              "      <th>max</th>\n",
              "      <td>660737.000000</td>\n",
              "      <td>1.000000</td>\n",
              "      <td>251.000000</td>\n",
              "      <td>2272.000000</td>\n",
              "      <td>55.000000</td>\n",
              "      <td>18.000000</td>\n",
              "      <td>20.000000</td>\n",
              "    </tr>\n",
              "  </tbody>\n",
              "</table>\n",
              "</div>"
            ],
            "text/plain": [
              "         Lead Number  ...  Asymmetrique Profile Score\n",
              "count    9240.000000  ...                 5022.000000\n",
              "mean   617188.435606  ...                   16.344883\n",
              "std     23405.995698  ...                    1.811395\n",
              "min    579533.000000  ...                   11.000000\n",
              "25%    596484.500000  ...                   15.000000\n",
              "50%    615479.000000  ...                   16.000000\n",
              "75%    637387.250000  ...                   18.000000\n",
              "max    660737.000000  ...                   20.000000\n",
              "\n",
              "[8 rows x 7 columns]"
            ]
          },
          "metadata": {},
          "execution_count": 189
        }
      ]
    },
    {
      "cell_type": "code",
      "metadata": {
        "id": "WwCaB7uulRa8"
      },
      "source": [
        "df_null = pd.DataFrame(round((df.isna().sum()/df.shape[0])*100,2),columns=['% Null']).reset_index()"
      ],
      "execution_count": 190,
      "outputs": []
    },
    {
      "cell_type": "code",
      "metadata": {
        "id": "v6vwxnqjlT5J"
      },
      "source": [
        "df_null.rename(columns={'index':'Column'},inplace=True)"
      ],
      "execution_count": 191,
      "outputs": []
    },
    {
      "cell_type": "code",
      "metadata": {
        "id": "RQJuubd6luO5"
      },
      "source": [
        "df_high_null = df_null[df_null['% Null']>25].sort_values(by='% Null')"
      ],
      "execution_count": 192,
      "outputs": []
    },
    {
      "cell_type": "code",
      "metadata": {
        "id": "Bp9lGBMvo5T1"
      },
      "source": [
        "cols_to_drop = df_high_null.Column.values\n",
        "cols_to_drop = cols_to_drop[2:]"
      ],
      "execution_count": 193,
      "outputs": []
    },
    {
      "cell_type": "code",
      "metadata": {
        "id": "EZj3hm0pmvLx"
      },
      "source": [
        "df_low_null = df_null[df_null['% Null']<25].sort_values(by='% Null')"
      ],
      "execution_count": 194,
      "outputs": []
    },
    {
      "cell_type": "markdown",
      "metadata": {
        "id": "ZF0sAuO_pAvf"
      },
      "source": [
        "# Drop columns (missing values > 25%) "
      ]
    },
    {
      "cell_type": "code",
      "metadata": {
        "id": "YDS99X1xnlYu"
      },
      "source": [
        "df.drop(labels=list(cols_to_drop),inplace=True,axis=1)"
      ],
      "execution_count": 195,
      "outputs": []
    },
    {
      "cell_type": "code",
      "metadata": {
        "id": "NzYTRQltpQJD"
      },
      "source": [
        "df.dropna(inplace=True,axis=0)"
      ],
      "execution_count": 196,
      "outputs": []
    },
    {
      "cell_type": "code",
      "metadata": {
        "colab": {
          "base_uri": "https://localhost:8080/"
        },
        "id": "0H6PrTMhqs7q",
        "outputId": "6339b120-1d25-4cbd-bd57-3dff36c5261f"
      },
      "source": [
        "df.isna().sum()"
      ],
      "execution_count": 197,
      "outputs": [
        {
          "output_type": "execute_result",
          "data": {
            "text/plain": [
              "Prospect ID                                 0\n",
              "Lead Number                                 0\n",
              "Lead Origin                                 0\n",
              "Lead Source                                 0\n",
              "Do Not Email                                0\n",
              "Do Not Call                                 0\n",
              "Converted                                   0\n",
              "TotalVisits                                 0\n",
              "Total Time Spent on Website                 0\n",
              "Page Views Per Visit                        0\n",
              "Last Activity                               0\n",
              "Country                                     0\n",
              "Specialization                              0\n",
              "How did you hear about X Education          0\n",
              "What is your current occupation             0\n",
              "Search                                      0\n",
              "Magazine                                    0\n",
              "Newspaper Article                           0\n",
              "X Education Forums                          0\n",
              "Newspaper                                   0\n",
              "Digital Advertisement                       0\n",
              "Through Recommendations                     0\n",
              "Receive More Updates About Our Courses      0\n",
              "Update me on Supply Chain Content           0\n",
              "Get updates on DM Content                   0\n",
              "City                                        0\n",
              "I agree to pay the amount through cheque    0\n",
              "A free copy of Mastering The Interview      0\n",
              "Last Notable Activity                       0\n",
              "dtype: int64"
            ]
          },
          "metadata": {},
          "execution_count": 197
        }
      ]
    },
    {
      "cell_type": "code",
      "metadata": {
        "colab": {
          "base_uri": "https://localhost:8080/"
        },
        "id": "a97L2reGqv5S",
        "outputId": "931ac6e2-7588-4ae8-bdb6-ebb0669e974b"
      },
      "source": [
        "df.shape"
      ],
      "execution_count": 198,
      "outputs": [
        {
          "output_type": "execute_result",
          "data": {
            "text/plain": [
              "(4925, 29)"
            ]
          },
          "metadata": {},
          "execution_count": 198
        }
      ]
    },
    {
      "cell_type": "code",
      "metadata": {
        "colab": {
          "base_uri": "https://localhost:8080/"
        },
        "id": "NcuYaJxgqy7P",
        "outputId": "2b0e38a7-2f24-46e6-8483-4f589c66ec4f"
      },
      "source": [
        "obj_cols = df.select_dtypes(np.object).columns.tolist()\n",
        "obj_cols"
      ],
      "execution_count": 199,
      "outputs": [
        {
          "output_type": "execute_result",
          "data": {
            "text/plain": [
              "['Prospect ID',\n",
              " 'Lead Origin',\n",
              " 'Lead Source',\n",
              " 'Do Not Email',\n",
              " 'Do Not Call',\n",
              " 'Last Activity',\n",
              " 'Country',\n",
              " 'Specialization',\n",
              " 'How did you hear about X Education',\n",
              " 'What is your current occupation',\n",
              " 'Search',\n",
              " 'Magazine',\n",
              " 'Newspaper Article',\n",
              " 'X Education Forums',\n",
              " 'Newspaper',\n",
              " 'Digital Advertisement',\n",
              " 'Through Recommendations',\n",
              " 'Receive More Updates About Our Courses',\n",
              " 'Update me on Supply Chain Content',\n",
              " 'Get updates on DM Content',\n",
              " 'City',\n",
              " 'I agree to pay the amount through cheque',\n",
              " 'A free copy of Mastering The Interview',\n",
              " 'Last Notable Activity']"
            ]
          },
          "metadata": {},
          "execution_count": 199
        }
      ]
    },
    {
      "cell_type": "code",
      "metadata": {
        "colab": {
          "base_uri": "https://localhost:8080/"
        },
        "id": "E1XYBiKauyc3",
        "outputId": "8d1b6805-19e6-4812-aac1-ff3f0bb1a17e"
      },
      "source": [
        "'Do Not Call','Search','Magazine','Digital Advertisement','Newspaper Article','X Education Forums','Newspaper','Through Recommendations','Receive More Updates About Our Courses','Update me on Supply Chain Content','Get updates on DM Content','I agree to pay the amount through cheque'"
      ],
      "execution_count": 200,
      "outputs": [
        {
          "output_type": "execute_result",
          "data": {
            "text/plain": [
              "('Do Not Call',\n",
              " 'Search',\n",
              " 'Magazine',\n",
              " 'Digital Advertisement',\n",
              " 'Newspaper Article',\n",
              " 'X Education Forums',\n",
              " 'Newspaper',\n",
              " 'Through Recommendations',\n",
              " 'Receive More Updates About Our Courses',\n",
              " 'Update me on Supply Chain Content',\n",
              " 'Get updates on DM Content',\n",
              " 'I agree to pay the amount through cheque')"
            ]
          },
          "metadata": {},
          "execution_count": 200
        }
      ]
    },
    {
      "cell_type": "code",
      "metadata": {
        "colab": {
          "base_uri": "https://localhost:8080/"
        },
        "id": "B9TI28FHskcw",
        "outputId": "1f2dd905-39af-4105-cb7c-32795d44f2b8"
      },
      "source": [
        "for col in obj_cols:\n",
        "  print('-----------------------------')\n",
        "  print(df[col].value_counts())\n",
        "  print('-----------------------------')"
      ],
      "execution_count": 201,
      "outputs": [
        {
          "output_type": "stream",
          "name": "stdout",
          "text": [
            "-----------------------------\n",
            "232f7d3b-ee3b-4987-8ef4-a84e8fdecedf    1\n",
            "27b0b7e1-4d8a-46b6-be0d-89769d6a6795    1\n",
            "a6df299b-f612-476e-8a0d-ad948dbaf755    1\n",
            "06feb89a-fb00-48b2-9ee8-71e69ec328fd    1\n",
            "0c15052a-9f8a-47c4-9fc3-eb20c84ffd74    1\n",
            "                                       ..\n",
            "309b99d6-f4bd-446a-902f-756f59171058    1\n",
            "49fd74ef-98cf-437f-be6b-3fd85843666f    1\n",
            "d9ed7525-5cf0-45ba-87c2-ca2bca521874    1\n",
            "53eb261a-c8a8-410b-9110-3025d9ac5d22    1\n",
            "7ea5288c-e117-4bb9-8f0f-846bf0534f0f    1\n",
            "Name: Prospect ID, Length: 4925, dtype: int64\n",
            "-----------------------------\n",
            "-----------------------------\n",
            "Landing Page Submission    3598\n",
            "API                        1300\n",
            "Lead Add Form                27\n",
            "Name: Lead Origin, dtype: int64\n",
            "-----------------------------\n",
            "-----------------------------\n",
            "Google               2028\n",
            "Direct Traffic       1856\n",
            "Organic Search        860\n",
            "Olark Chat             73\n",
            "Referral Sites         71\n",
            "Reference              21\n",
            "Welingak Website        5\n",
            "bing                    3\n",
            "Social Media            2\n",
            "Pay per Click Ads       1\n",
            "Click2call              1\n",
            "Press_Release           1\n",
            "testone                 1\n",
            "Facebook                1\n",
            "WeLearn                 1\n",
            "Name: Lead Source, dtype: int64\n",
            "-----------------------------\n",
            "-----------------------------\n",
            "No     4561\n",
            "Yes     364\n",
            "Name: Do Not Email, dtype: int64\n",
            "-----------------------------\n",
            "-----------------------------\n",
            "No     4924\n",
            "Yes       1\n",
            "Name: Do Not Call, dtype: int64\n",
            "-----------------------------\n",
            "-----------------------------\n",
            "Email Opened                    1918\n",
            "SMS Sent                        1634\n",
            "Page Visited on Website          397\n",
            "Converted to Lead                285\n",
            "Olark Chat Conversation          203\n",
            "Email Bounced                    152\n",
            "Email Link Clicked               123\n",
            "Form Submitted on Website         81\n",
            "Unreachable                       65\n",
            "Unsubscribed                      35\n",
            "Had a Phone Conversation          22\n",
            "View in browser link Clicked       3\n",
            "Approached upfront                 3\n",
            "Email Received                     2\n",
            "Email Marked Spam                  1\n",
            "Visited Booth in Tradeshow         1\n",
            "Name: Last Activity, dtype: int64\n",
            "-----------------------------\n",
            "-----------------------------\n",
            "India                   4724\n",
            "United States             46\n",
            "United Arab Emirates      39\n",
            "Singapore                 18\n",
            "Saudi Arabia              16\n",
            "United Kingdom            11\n",
            "Qatar                      9\n",
            "Australia                  8\n",
            "Hong Kong                  6\n",
            "France                     5\n",
            "Bahrain                    5\n",
            "Oman                       5\n",
            "Nigeria                    3\n",
            "Kuwait                     3\n",
            "South Africa               3\n",
            "Philippines                2\n",
            "Germany                    2\n",
            "Sweden                     2\n",
            "Uganda                     2\n",
            "Netherlands                2\n",
            "Canada                     2\n",
            "Tanzania                   1\n",
            "Bangladesh                 1\n",
            "Sri Lanka                  1\n",
            "Kenya                      1\n",
            "Vietnam                    1\n",
            "Russia                     1\n",
            "Indonesia                  1\n",
            "Italy                      1\n",
            "Denmark                    1\n",
            "Malaysia                   1\n",
            "Ghana                      1\n",
            "China                      1\n",
            "Name: Country, dtype: int64\n",
            "-----------------------------\n",
            "-----------------------------\n",
            "Select                               906\n",
            "Finance Management                   657\n",
            "Human Resource Management            576\n",
            "Marketing Management                 553\n",
            "Operations Management                349\n",
            "Business Administration              277\n",
            "IT Projects Management               258\n",
            "Supply Chain Management              251\n",
            "Banking, Investment And Insurance    230\n",
            "Media and Advertising                152\n",
            "Travel and Tourism                   145\n",
            "International Business               128\n",
            "Healthcare Management                101\n",
            "Hospitality Management                78\n",
            "Retail Management                     74\n",
            "E-COMMERCE                            74\n",
            "Rural and Agribusiness                52\n",
            "E-Business                            41\n",
            "Services Excellence                   23\n",
            "Name: Specialization, dtype: int64\n",
            "-----------------------------\n",
            "-----------------------------\n",
            "Select                   3446\n",
            "Online Search             601\n",
            "Word Of Mouth             250\n",
            "Student of SomeSchool     238\n",
            "Other                     143\n",
            "Multiple Sources          112\n",
            "Social Media               52\n",
            "Advertisements             49\n",
            "Email                      22\n",
            "SMS                        12\n",
            "Name: How did you hear about X Education, dtype: int64\n",
            "-----------------------------\n",
            "-----------------------------\n",
            "Unemployed              4302\n",
            "Working Professional     470\n",
            "Student                  127\n",
            "Other                     14\n",
            "Housewife                  7\n",
            "Businessman                5\n",
            "Name: What is your current occupation, dtype: int64\n",
            "-----------------------------\n",
            "-----------------------------\n",
            "No     4915\n",
            "Yes      10\n",
            "Name: Search, dtype: int64\n",
            "-----------------------------\n",
            "-----------------------------\n",
            "No    4925\n",
            "Name: Magazine, dtype: int64\n",
            "-----------------------------\n",
            "-----------------------------\n",
            "No     4924\n",
            "Yes       1\n",
            "Name: Newspaper Article, dtype: int64\n",
            "-----------------------------\n",
            "-----------------------------\n",
            "No    4925\n",
            "Name: X Education Forums, dtype: int64\n",
            "-----------------------------\n",
            "-----------------------------\n",
            "No     4924\n",
            "Yes       1\n",
            "Name: Newspaper, dtype: int64\n",
            "-----------------------------\n",
            "-----------------------------\n",
            "No     4922\n",
            "Yes       3\n",
            "Name: Digital Advertisement, dtype: int64\n",
            "-----------------------------\n",
            "-----------------------------\n",
            "No     4919\n",
            "Yes       6\n",
            "Name: Through Recommendations, dtype: int64\n",
            "-----------------------------\n",
            "-----------------------------\n",
            "No    4925\n",
            "Name: Receive More Updates About Our Courses, dtype: int64\n",
            "-----------------------------\n",
            "-----------------------------\n",
            "No    4925\n",
            "Name: Update me on Supply Chain Content, dtype: int64\n",
            "-----------------------------\n",
            "-----------------------------\n",
            "No    4925\n",
            "Name: Get updates on DM Content, dtype: int64\n",
            "-----------------------------\n",
            "-----------------------------\n",
            "Mumbai                         2275\n",
            "Select                         1032\n",
            "Thane & Outskirts               513\n",
            "Other Cities                    467\n",
            "Other Cities of Maharashtra     308\n",
            "Other Metro Cities              278\n",
            "Tier II Cities                   52\n",
            "Name: City, dtype: int64\n",
            "-----------------------------\n",
            "-----------------------------\n",
            "No    4925\n",
            "Name: I agree to pay the amount through cheque, dtype: int64\n",
            "-----------------------------\n",
            "-----------------------------\n",
            "No     2770\n",
            "Yes    2155\n",
            "Name: A free copy of Mastering The Interview, dtype: int64\n",
            "-----------------------------\n",
            "-----------------------------\n",
            "Email Opened                    1617\n",
            "Modified                        1487\n",
            "SMS Sent                        1406\n",
            "Page Visited on Website          192\n",
            "Email Link Clicked                77\n",
            "Olark Chat Conversation           45\n",
            "Email Bounced                     39\n",
            "Unsubscribed                      27\n",
            "Unreachable                       18\n",
            "Had a Phone Conversation          13\n",
            "View in browser link Clicked       1\n",
            "Email Marked Spam                  1\n",
            "Approached upfront                 1\n",
            "Email Received                     1\n",
            "Name: Last Notable Activity, dtype: int64\n",
            "-----------------------------\n"
          ]
        }
      ]
    },
    {
      "cell_type": "code",
      "metadata": {
        "id": "FNeoRw5OtWan"
      },
      "source": [
        "cols_to_drop_2 = ['Prospect ID','Do Not Call','Search','Magazine','Digital Advertisement','Newspaper Article','X Education Forums','Newspaper','Through Recommendations','Receive More Updates About Our Courses','Update me on Supply Chain Content','Get updates on DM Content','I agree to pay the amount through cheque']"
      ],
      "execution_count": 202,
      "outputs": []
    },
    {
      "cell_type": "code",
      "metadata": {
        "id": "qCBvrYuQvs2S"
      },
      "source": [
        "df.drop(labels=cols_to_drop_2,inplace=True,axis=1)"
      ],
      "execution_count": 203,
      "outputs": []
    },
    {
      "cell_type": "code",
      "metadata": {
        "colab": {
          "base_uri": "https://localhost:8080/"
        },
        "id": "o85jnCxdwunw",
        "outputId": "22208326-a612-4112-f65b-fd6da13af8b3"
      },
      "source": [
        "df.shape"
      ],
      "execution_count": 204,
      "outputs": [
        {
          "output_type": "execute_result",
          "data": {
            "text/plain": [
              "(4925, 16)"
            ]
          },
          "metadata": {},
          "execution_count": 204
        }
      ]
    },
    {
      "cell_type": "code",
      "metadata": {
        "colab": {
          "base_uri": "https://localhost:8080/"
        },
        "id": "rJHvUeFUwvoB",
        "outputId": "ad699853-878b-4c01-c5a5-48b3b659465d"
      },
      "source": [
        "obj_cols = df.select_dtypes(np.object).columns.tolist()\n",
        "obj_cols"
      ],
      "execution_count": 205,
      "outputs": [
        {
          "output_type": "execute_result",
          "data": {
            "text/plain": [
              "['Lead Origin',\n",
              " 'Lead Source',\n",
              " 'Do Not Email',\n",
              " 'Last Activity',\n",
              " 'Country',\n",
              " 'Specialization',\n",
              " 'How did you hear about X Education',\n",
              " 'What is your current occupation',\n",
              " 'City',\n",
              " 'A free copy of Mastering The Interview',\n",
              " 'Last Notable Activity']"
            ]
          },
          "metadata": {},
          "execution_count": 205
        }
      ]
    },
    {
      "cell_type": "code",
      "metadata": {
        "colab": {
          "base_uri": "https://localhost:8080/"
        },
        "id": "QJNoNL31w5iB",
        "outputId": "99e9fe88-2083-471d-de07-9e0c7b7cb631"
      },
      "source": [
        "for col in obj_cols:\n",
        "  print('-----------------------------')\n",
        "  print(round((df[col].value_counts()/df.shape[0])*100,2))\n",
        "  print('-----------------------------')"
      ],
      "execution_count": 206,
      "outputs": [
        {
          "output_type": "stream",
          "name": "stdout",
          "text": [
            "-----------------------------\n",
            "Landing Page Submission    73.06\n",
            "API                        26.40\n",
            "Lead Add Form               0.55\n",
            "Name: Lead Origin, dtype: float64\n",
            "-----------------------------\n",
            "-----------------------------\n",
            "Google               41.18\n",
            "Direct Traffic       37.69\n",
            "Organic Search       17.46\n",
            "Olark Chat            1.48\n",
            "Referral Sites        1.44\n",
            "Reference             0.43\n",
            "Welingak Website      0.10\n",
            "bing                  0.06\n",
            "Social Media          0.04\n",
            "Pay per Click Ads     0.02\n",
            "Click2call            0.02\n",
            "Press_Release         0.02\n",
            "testone               0.02\n",
            "Facebook              0.02\n",
            "WeLearn               0.02\n",
            "Name: Lead Source, dtype: float64\n",
            "-----------------------------\n",
            "-----------------------------\n",
            "No     92.61\n",
            "Yes     7.39\n",
            "Name: Do Not Email, dtype: float64\n",
            "-----------------------------\n",
            "-----------------------------\n",
            "Email Opened                    38.94\n",
            "SMS Sent                        33.18\n",
            "Page Visited on Website          8.06\n",
            "Converted to Lead                5.79\n",
            "Olark Chat Conversation          4.12\n",
            "Email Bounced                    3.09\n",
            "Email Link Clicked               2.50\n",
            "Form Submitted on Website        1.64\n",
            "Unreachable                      1.32\n",
            "Unsubscribed                     0.71\n",
            "Had a Phone Conversation         0.45\n",
            "View in browser link Clicked     0.06\n",
            "Approached upfront               0.06\n",
            "Email Received                   0.04\n",
            "Email Marked Spam                0.02\n",
            "Visited Booth in Tradeshow       0.02\n",
            "Name: Last Activity, dtype: float64\n",
            "-----------------------------\n",
            "-----------------------------\n",
            "India                   95.92\n",
            "United States            0.93\n",
            "United Arab Emirates     0.79\n",
            "Singapore                0.37\n",
            "Saudi Arabia             0.32\n",
            "United Kingdom           0.22\n",
            "Qatar                    0.18\n",
            "Australia                0.16\n",
            "Hong Kong                0.12\n",
            "France                   0.10\n",
            "Bahrain                  0.10\n",
            "Oman                     0.10\n",
            "Nigeria                  0.06\n",
            "Kuwait                   0.06\n",
            "South Africa             0.06\n",
            "Philippines              0.04\n",
            "Germany                  0.04\n",
            "Sweden                   0.04\n",
            "Uganda                   0.04\n",
            "Netherlands              0.04\n",
            "Canada                   0.04\n",
            "Tanzania                 0.02\n",
            "Bangladesh               0.02\n",
            "Sri Lanka                0.02\n",
            "Kenya                    0.02\n",
            "Vietnam                  0.02\n",
            "Russia                   0.02\n",
            "Indonesia                0.02\n",
            "Italy                    0.02\n",
            "Denmark                  0.02\n",
            "Malaysia                 0.02\n",
            "Ghana                    0.02\n",
            "China                    0.02\n",
            "Name: Country, dtype: float64\n",
            "-----------------------------\n",
            "-----------------------------\n",
            "Select                               18.40\n",
            "Finance Management                   13.34\n",
            "Human Resource Management            11.70\n",
            "Marketing Management                 11.23\n",
            "Operations Management                 7.09\n",
            "Business Administration               5.62\n",
            "IT Projects Management                5.24\n",
            "Supply Chain Management               5.10\n",
            "Banking, Investment And Insurance     4.67\n",
            "Media and Advertising                 3.09\n",
            "Travel and Tourism                    2.94\n",
            "International Business                2.60\n",
            "Healthcare Management                 2.05\n",
            "Hospitality Management                1.58\n",
            "Retail Management                     1.50\n",
            "E-COMMERCE                            1.50\n",
            "Rural and Agribusiness                1.06\n",
            "E-Business                            0.83\n",
            "Services Excellence                   0.47\n",
            "Name: Specialization, dtype: float64\n",
            "-----------------------------\n",
            "-----------------------------\n",
            "Select                   69.97\n",
            "Online Search            12.20\n",
            "Word Of Mouth             5.08\n",
            "Student of SomeSchool     4.83\n",
            "Other                     2.90\n",
            "Multiple Sources          2.27\n",
            "Social Media              1.06\n",
            "Advertisements            0.99\n",
            "Email                     0.45\n",
            "SMS                       0.24\n",
            "Name: How did you hear about X Education, dtype: float64\n",
            "-----------------------------\n",
            "-----------------------------\n",
            "Unemployed              87.35\n",
            "Working Professional     9.54\n",
            "Student                  2.58\n",
            "Other                    0.28\n",
            "Housewife                0.14\n",
            "Businessman              0.10\n",
            "Name: What is your current occupation, dtype: float64\n",
            "-----------------------------\n",
            "-----------------------------\n",
            "Mumbai                         46.19\n",
            "Select                         20.95\n",
            "Thane & Outskirts              10.42\n",
            "Other Cities                    9.48\n",
            "Other Cities of Maharashtra     6.25\n",
            "Other Metro Cities              5.64\n",
            "Tier II Cities                  1.06\n",
            "Name: City, dtype: float64\n",
            "-----------------------------\n",
            "-----------------------------\n",
            "No     56.24\n",
            "Yes    43.76\n",
            "Name: A free copy of Mastering The Interview, dtype: float64\n",
            "-----------------------------\n",
            "-----------------------------\n",
            "Email Opened                    32.83\n",
            "Modified                        30.19\n",
            "SMS Sent                        28.55\n",
            "Page Visited on Website          3.90\n",
            "Email Link Clicked               1.56\n",
            "Olark Chat Conversation          0.91\n",
            "Email Bounced                    0.79\n",
            "Unsubscribed                     0.55\n",
            "Unreachable                      0.37\n",
            "Had a Phone Conversation         0.26\n",
            "View in browser link Clicked     0.02\n",
            "Email Marked Spam                0.02\n",
            "Approached upfront               0.02\n",
            "Email Received                   0.02\n",
            "Name: Last Notable Activity, dtype: float64\n",
            "-----------------------------\n"
          ]
        }
      ]
    },
    {
      "cell_type": "code",
      "metadata": {
        "id": "Z1f4SZTexKt1"
      },
      "source": [
        "cols_to_drop_3 = ['How did you hear about X Education','Country','City','Do Not Email']\n",
        "df.drop(labels=cols_to_drop_3,inplace=True,axis=1)"
      ],
      "execution_count": 207,
      "outputs": []
    },
    {
      "cell_type": "code",
      "metadata": {
        "colab": {
          "base_uri": "https://localhost:8080/"
        },
        "id": "af-tQYFnyRo7",
        "outputId": "c5a95bde-497c-473f-fc1c-052983c0581f"
      },
      "source": [
        "df.shape"
      ],
      "execution_count": 208,
      "outputs": [
        {
          "output_type": "execute_result",
          "data": {
            "text/plain": [
              "(4925, 12)"
            ]
          },
          "metadata": {},
          "execution_count": 208
        }
      ]
    },
    {
      "cell_type": "code",
      "metadata": {
        "id": "EKpsUlSjySl2"
      },
      "source": [
        "df['Specialization'] = df['Specialization'].apply(lambda x:'Other' if x=='Select' else x)"
      ],
      "execution_count": 209,
      "outputs": []
    },
    {
      "cell_type": "code",
      "metadata": {
        "colab": {
          "base_uri": "https://localhost:8080/"
        },
        "id": "gk4Tf-DHy142",
        "outputId": "acfb1800-b148-4531-e742-1bc1dc194bd6"
      },
      "source": [
        "df['Specialization'].value_counts()"
      ],
      "execution_count": 210,
      "outputs": [
        {
          "output_type": "execute_result",
          "data": {
            "text/plain": [
              "Other                                906\n",
              "Finance Management                   657\n",
              "Human Resource Management            576\n",
              "Marketing Management                 553\n",
              "Operations Management                349\n",
              "Business Administration              277\n",
              "IT Projects Management               258\n",
              "Supply Chain Management              251\n",
              "Banking, Investment And Insurance    230\n",
              "Media and Advertising                152\n",
              "Travel and Tourism                   145\n",
              "International Business               128\n",
              "Healthcare Management                101\n",
              "Hospitality Management                78\n",
              "Retail Management                     74\n",
              "E-COMMERCE                            74\n",
              "Rural and Agribusiness                52\n",
              "E-Business                            41\n",
              "Services Excellence                   23\n",
              "Name: Specialization, dtype: int64"
            ]
          },
          "metadata": {},
          "execution_count": 210
        }
      ]
    },
    {
      "cell_type": "code",
      "metadata": {
        "id": "DL6dkP-v0Js9"
      },
      "source": [
        "df.drop(labels='Lead Number',inplace=True,axis=1)"
      ],
      "execution_count": 211,
      "outputs": []
    },
    {
      "cell_type": "code",
      "metadata": {
        "colab": {
          "base_uri": "https://localhost:8080/"
        },
        "id": "3_fmcTRJy5Mj",
        "outputId": "738eb5b9-74ed-4ea4-ddd4-1934f532b1fa"
      },
      "source": [
        "df.info()"
      ],
      "execution_count": 212,
      "outputs": [
        {
          "output_type": "stream",
          "name": "stdout",
          "text": [
            "<class 'pandas.core.frame.DataFrame'>\n",
            "Int64Index: 4925 entries, 1 to 9239\n",
            "Data columns (total 11 columns):\n",
            " #   Column                                  Non-Null Count  Dtype  \n",
            "---  ------                                  --------------  -----  \n",
            " 0   Lead Origin                             4925 non-null   object \n",
            " 1   Lead Source                             4925 non-null   object \n",
            " 2   Converted                               4925 non-null   int64  \n",
            " 3   TotalVisits                             4925 non-null   float64\n",
            " 4   Total Time Spent on Website             4925 non-null   int64  \n",
            " 5   Page Views Per Visit                    4925 non-null   float64\n",
            " 6   Last Activity                           4925 non-null   object \n",
            " 7   Specialization                          4925 non-null   object \n",
            " 8   What is your current occupation         4925 non-null   object \n",
            " 9   A free copy of Mastering The Interview  4925 non-null   object \n",
            " 10  Last Notable Activity                   4925 non-null   object \n",
            "dtypes: float64(2), int64(2), object(7)\n",
            "memory usage: 461.7+ KB\n"
          ]
        }
      ]
    },
    {
      "cell_type": "code",
      "metadata": {
        "colab": {
          "base_uri": "https://localhost:8080/"
        },
        "id": "zJ2zYqNi1es9",
        "outputId": "fb4bbe43-018d-49b0-8ab4-991a441ae722"
      },
      "source": [
        "df['A free copy of Mastering The Interview'].value_counts()"
      ],
      "execution_count": 213,
      "outputs": [
        {
          "output_type": "execute_result",
          "data": {
            "text/plain": [
              "No     2770\n",
              "Yes    2155\n",
              "Name: A free copy of Mastering The Interview, dtype: int64"
            ]
          },
          "metadata": {},
          "execution_count": 213
        }
      ]
    },
    {
      "cell_type": "code",
      "metadata": {
        "id": "MglrTU370YHI"
      },
      "source": [
        "df['A free copy of Mastering The Interview'] = df['A free copy of Mastering The Interview'].apply(lambda x:1 if x=='Yes' else 0)"
      ],
      "execution_count": 214,
      "outputs": []
    },
    {
      "cell_type": "code",
      "metadata": {
        "colab": {
          "base_uri": "https://localhost:8080/"
        },
        "id": "NboEvQjl1hPe",
        "outputId": "b430ee1a-570f-4bac-aaa4-9b69559d5b23"
      },
      "source": [
        "df['A free copy of Mastering The Interview'].value_counts()"
      ],
      "execution_count": 215,
      "outputs": [
        {
          "output_type": "execute_result",
          "data": {
            "text/plain": [
              "0    2770\n",
              "1    2155\n",
              "Name: A free copy of Mastering The Interview, dtype: int64"
            ]
          },
          "metadata": {},
          "execution_count": 215
        }
      ]
    },
    {
      "cell_type": "code",
      "metadata": {
        "id": "AhasyCPH1ila"
      },
      "source": [
        ""
      ],
      "execution_count": null,
      "outputs": []
    }
  ]
}